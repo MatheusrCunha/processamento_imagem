{
  "cells": [
    {
      "cell_type": "markdown",
      "metadata": {
        "id": "view-in-github",
        "colab_type": "text"
      },
      "source": [
        "<a href=\"https://colab.research.google.com/github/MatheusrCunha/processamento_imagem/blob/main/Atividade_Filtros_Imagem.ipynb\" target=\"_parent\"><img src=\"https://colab.research.google.com/assets/colab-badge.svg\" alt=\"Open In Colab\"/></a>"
      ]
    },
    {
      "cell_type": "markdown",
      "metadata": {
        "id": "Tsk4h5jLaB7X"
      },
      "source": [
        "INSTITUTO FEDERAL DE EDUCAÇÃO, CIÊNCIA E TECNOLOGIA DE SANTA CATARINA \\\n",
        "CAMPUS FLORIANÓPOLIS \\\n",
        "DEPARTAMENTO ACADÊMICO DE ELETRÔNICA \\\n",
        "ENGENHARIA ELETRÔNICA\n",
        "\n",
        "Estudante:Matheus Rodrigues da Cunha\n"
      ]
    },
    {
      "cell_type": "markdown",
      "metadata": {
        "id": "C1GXJLVzaB7b"
      },
      "source": [
        "# Atividade: Filtros em Imagens"
      ]
    },
    {
      "cell_type": "markdown",
      "metadata": {
        "id": "ssSWsnD5aB7c"
      },
      "source": [
        "## Trabalhando com imagens pré-gravadas no computador\n",
        "\n",
        "### Filtros passa-baixas"
      ]
    },
    {
      "cell_type": "markdown",
      "metadata": {
        "id": "NFCIc_r4aB7d"
      },
      "source": [
        "1. Vimos que para filtrar uma imagem, é necessário definir um *kernel*, que nada mais é que a resposta ao impulso do filtro. Considere a imagem [1]. Defina filtros passa-baixas (a) 3x3 e (b) 9x9. Você pode gerar manualmente a matriz (como no exemplo _Blur_ de [2]) ou usar um dos elementos estruturantes (*square*, *disk*, etc.) do módulo *morphology* do Skimage [3]. Filtre a imagem. A imagem é melhorada com esses filtros? Mostre os resultados."
      ]
    },
    {
      "cell_type": "markdown",
      "metadata": {
        "id": "QaBTGy3waB7d"
      },
      "source": [
        "2. Filtre a mesma imagem [1] com filtro de mediana [4]. A imagem é melhorada? Qual a influência do tamanho do filtro e do formato do elemento estruturante? O filtro de mediana é linear? Mostre os resultados."
      ]
    },
    {
      "cell_type": "markdown",
      "metadata": {
        "id": "_94FStXxaB7e"
      },
      "source": [
        "### Filtros passa-altas"
      ]
    },
    {
      "cell_type": "markdown",
      "metadata": {
        "id": "Rq6XmI0jaB7e"
      },
      "source": [
        "3. Considere a imagem [5]. Procure melhorá-la (aguçar os contornos) usando um filtro linear. Você pode usar um filtro passa-altas (como no exemplo _Sharpening_ de [2]) ou a máscara *unsharp_mask* de `skimage.filters` [6]. Apresente os resultados."
      ]
    },
    {
      "cell_type": "markdown",
      "metadata": {
        "id": "kr17JsOraB7g"
      },
      "source": [
        "4. Agora, a partir da imagem `gray`, use as funções `cv.filter2D` e `cv.mediamBlur` [7] para melhorar a imagem capturada. Apresente o código, imagens resultantes e comente.\n"
      ]
    },
    {
      "cell_type": "markdown",
      "metadata": {
        "id": "a_ImVBumaB7h"
      },
      "source": [
        "## Detecção de bordas"
      ]
    },
    {
      "cell_type": "markdown",
      "metadata": {
        "id": "R-Ulhq8VaB7h"
      },
      "source": [
        "5. Usando um kernel do tipo Sobel ou Canny, identifique as bordas da folha na imagem [8]. Mostre o resultado. Depois, aplique os mesmos parâmetros para a imagem [9]. As bordas são detectadas corretamente? É necessário ajustar os parâmetros?"
      ]
    },
    {
      "cell_type": "markdown",
      "metadata": {
        "id": "1gdD-EfkaB7h"
      },
      "source": [
        "## Referências\n",
        "\n",
        "[1] hw3_train.jpg da pasta **hw3_data** (obtido de http://web.stanford.edu/class/ee368/Handouts/Homeworks/HW3/hw3_data.zip)\n",
        "\n",
        "[2] https://www.codingame.com/playgrounds/2524/basic-image-manipulation/filtering\n",
        "\n",
        "[3] https://scikit-image.org/docs/dev/api/skimage.morphology.html\n",
        "\n",
        "[4] https://scikit-image.org/docs/dev/auto_examples/applications/plot_rank_filters.html#noise-removal\n",
        "\n",
        "[5] hw3_road_sign_school_blurry.jpg, da pasta **hw3_data** (obtido de http://web.stanford.edu/class/ee368/Handouts/Homeworks/HW3/hw3_data.zip)\n",
        "\n",
        "[6] https://scikit-image.org/docs/dev/auto_examples/filters/plot_unsharp_mask.html\n",
        "\n",
        "[7] https://docs.opencv.org/4.x/d4/d13/tutorial_py_filtering.html\n",
        "\n",
        "[8] hw3_leaf_training_1.jpg, da pasta **hw3_data** (obtido de http://web.stanford.edu/class/ee368/Handouts/Homeworks/HW3/hw3_data.zip)\n",
        "\n",
        "[9] hw3_leaf_training_4.jpg, da pasta **hw3_data** (obtido de http://web.stanford.edu/class/ee368/Handouts/Homeworks/HW3/hw3_data.zip)"
      ]
    },
    {
      "cell_type": "markdown",
      "metadata": {
        "id": "pZ_XWfohaB7i"
      },
      "source": [
        "## Bibliografia\n",
        "\n",
        "https://scikit-image.org/docs/dev/auto_examples/applications/plot_rank_filters.html#image-smoothing\n",
        "\n",
        "\n",
        "https://www.mathworks.com/help/images/what-is-image-filtering-in-the-spatial-domain.html\n",
        "\n",
        "https://www.mathworks.com/examples/image/mw/images-ex48835658-detect-edges-in-images\n",
        "\n",
        "https://www.mathworks.com/examples/image/mw/images-ex80028725-trace-boundaries-of-objects-in-images\n",
        "\n",
        "https://www.mathworks.com/help/images/ref/imfindcircles.html#examples\n",
        "\n",
        "https://www.mathworks.com/examples/image/community/18507-missing-planes"
      ]
    },
    {
      "cell_type": "code",
      "source": [
        "!wget -O make.py https://raw.githubusercontent.com/JonasGMorsch/ColabMakePDF/master/make.py\n",
        "import make; make.pdf()"
      ],
      "metadata": {
        "id": "di3kmPLQMlXz",
        "colab": {
          "base_uri": "https://localhost:8080/",
          "height": 416
        },
        "outputId": "db1ed27a-7456-464c-eb29-8babded6a3f8"
      },
      "execution_count": null,
      "outputs": [
        {
          "output_type": "stream",
          "name": "stdout",
          "text": [
            "--2024-04-23 18:43:47--  https://raw.githubusercontent.com/JonasGMorsch/ColabMakePDF/master/make.py\n",
            "Resolving raw.githubusercontent.com (raw.githubusercontent.com)... 185.199.108.133, 185.199.109.133, 185.199.110.133, ...\n",
            "Connecting to raw.githubusercontent.com (raw.githubusercontent.com)|185.199.108.133|:443... connected.\n",
            "HTTP request sent, awaiting response... 200 OK\n",
            "Length: 1292 (1.3K) [text/plain]\n",
            "Saving to: ‘make.py’\n",
            "\n",
            "\rmake.py               0%[                    ]       0  --.-KB/s               \rmake.py             100%[===================>]   1.26K  --.-KB/s    in 0s      \n",
            "\n",
            "2024-04-23 18:43:47 (112 MB/s) - ‘make.py’ saved [1292/1292]\n",
            "\n",
            "Downloading...\n",
            "From: https://drive.google.com/uc?id=1cZGBWnIVcqFcxb2rX-ZC0UAeNRmCQqhs\n",
            "To: /content/Atividade_Filtros_Imagem.ipynb\n",
            "100% 5.63k/5.63k [00:00<00:00, 14.3MB/s]\n",
            "Reading package lists...\n",
            "Building dependency tree...\n",
            "Reading state information...\n",
            "pandoc is already the newest version (2.9.2.1-3ubuntu2).\n",
            "texlive is already the newest version (2021.20220204-1).\n",
            "texlive-latex-extra is already the newest version (2021.20220204-1).\n",
            "texlive-xetex is already the newest version (2021.20220204-1).\n",
            "0 upgraded, 0 newly installed, 0 to remove and 45 not upgraded.\n"
          ]
        },
        {
          "output_type": "display_data",
          "data": {
            "text/plain": [
              "<IPython.core.display.Javascript object>"
            ],
            "application/javascript": [
              "\n",
              "    async function download(id, filename, size) {\n",
              "      if (!google.colab.kernel.accessAllowed) {\n",
              "        return;\n",
              "      }\n",
              "      const div = document.createElement('div');\n",
              "      const label = document.createElement('label');\n",
              "      label.textContent = `Downloading \"${filename}\": `;\n",
              "      div.appendChild(label);\n",
              "      const progress = document.createElement('progress');\n",
              "      progress.max = size;\n",
              "      div.appendChild(progress);\n",
              "      document.body.appendChild(div);\n",
              "\n",
              "      const buffers = [];\n",
              "      let downloaded = 0;\n",
              "\n",
              "      const channel = await google.colab.kernel.comms.open(id);\n",
              "      // Send a message to notify the kernel that we're ready.\n",
              "      channel.send({})\n",
              "\n",
              "      for await (const message of channel.messages) {\n",
              "        // Send a message to notify the kernel that we're ready.\n",
              "        channel.send({})\n",
              "        if (message.buffers) {\n",
              "          for (const buffer of message.buffers) {\n",
              "            buffers.push(buffer);\n",
              "            downloaded += buffer.byteLength;\n",
              "            progress.value = downloaded;\n",
              "          }\n",
              "        }\n",
              "      }\n",
              "      const blob = new Blob(buffers, {type: 'application/binary'});\n",
              "      const a = document.createElement('a');\n",
              "      a.href = window.URL.createObjectURL(blob);\n",
              "      a.download = filename;\n",
              "      div.appendChild(a);\n",
              "      a.click();\n",
              "      div.remove();\n",
              "    }\n",
              "  "
            ]
          },
          "metadata": {}
        },
        {
          "output_type": "display_data",
          "data": {
            "text/plain": [
              "<IPython.core.display.Javascript object>"
            ],
            "application/javascript": [
              "download(\"download_eac2aa70-208f-4f77-be6e-5990576a83f0\", \"Atividade_Filtros_Imagem.pdf\", 41845)"
            ]
          },
          "metadata": {}
        }
      ]
    }
  ],
  "metadata": {
    "kernelspec": {
      "display_name": "Python 3",
      "language": "python",
      "name": "python3"
    },
    "language_info": {
      "codemirror_mode": {
        "name": "ipython",
        "version": 3
      },
      "file_extension": ".py",
      "mimetype": "text/x-python",
      "name": "python",
      "nbconvert_exporter": "python",
      "pygments_lexer": "ipython3",
      "version": "3.8.10"
    },
    "colab": {
      "provenance": [],
      "toc_visible": true,
      "include_colab_link": true
    }
  },
  "nbformat": 4,
  "nbformat_minor": 0
}