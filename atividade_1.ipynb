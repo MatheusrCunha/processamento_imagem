{
  "cells": [
    {
      "cell_type": "markdown",
      "metadata": {
        "id": "view-in-github",
        "colab_type": "text"
      },
      "source": [
        "<a href=\"https://colab.research.google.com/github/MatheusrCunha/processamento_imagem/blob/main/atividade_1.ipynb\" target=\"_parent\"><img src=\"https://colab.research.google.com/assets/colab-badge.svg\" alt=\"Open In Colab\"/></a>"
      ]
    },
    {
      "cell_type": "markdown",
      "metadata": {
        "id": "t8JFXrbw9plW"
      },
      "source": [
        "# Processamento pixel a pixel de imagens"
      ]
    },
    {
      "cell_type": "markdown",
      "metadata": {
        "id": "01yezUJw9pla"
      },
      "source": [
        "## Amostragem e quantização"
      ]
    },
    {
      "cell_type": "markdown",
      "metadata": {
        "id": "iCSuuSr09plb"
      },
      "source": [
        "Para uma introdução ao processamento pixel a pixel de imagens, iremos usar o formato ASCII PGM(P2) (conferir   definição e exemplos   em  http://people.sc.fsu.edu/~jburkardt/data/pgma/pgma.html).\n",
        "\n",
        "Esse formato é bastante didático, por ser em modo **texto**, ou seja, pode ser lido diretamente por uma pessoa."
      ]
    },
    {
      "cell_type": "code",
      "execution_count": 1,
      "metadata": {
        "id": "iL-PHr5G9plb"
      },
      "outputs": [],
      "source": [
        "import numpy as np\n",
        "import matplotlib.pyplot as plt\n",
        "from skimage import io"
      ]
    },
    {
      "cell_type": "markdown",
      "metadata": {
        "id": "HobWGPWA9plc"
      },
      "source": [
        "## Leitura de arquivo no formato PGM (ASCII)"
      ]
    },
    {
      "cell_type": "code",
      "execution_count": 2,
      "metadata": {
        "id": "nvksrXQO9plc"
      },
      "outputs": [],
      "source": [
        "# Função para leitura de arquivo PGM P2 (ASCIII)\n",
        "# https://intellipaat.com/community/7530/how-to-read-pgm-p2-image-in-python\n",
        "def readpgm(name):\n",
        "    with open(name) as f:\n",
        "        lines = f.readlines()\n",
        "    # This ignores commented lines\n",
        "    for l in list(lines):\n",
        "        if l[0] == '#':\n",
        "            lines.remove(l)\n",
        "    # here,it makes sure it is ASCII format (P2)\n",
        "    assert lines[0].strip() == 'P2'\n",
        "    # Converts data to a list of integers\n",
        "    data = []\n",
        "    for line in lines[1:]:\n",
        "        data.extend([int(c) for c in line.split()])\n",
        "    return (np.array(data[3:]),(data[1],data[0]),data[2])"
      ]
    },
    {
      "cell_type": "code",
      "execution_count": 4,
      "metadata": {
        "colab": {
          "base_uri": "https://localhost:8080/"
        },
        "id": "sEMAhnYM9pld",
        "outputId": "157822c8-e3b7-4a4f-e63b-69b71e7847c2"
      },
      "outputs": [
        {
          "output_type": "stream",
          "name": "stdout",
          "text": [
            "(array([ 0,  0,  0,  0,  0,  0,  0,  0,  0,  0,  0,  0,  0,  0,  0,  0,  0,\n",
            "        0,  0,  0,  0,  0,  0,  0,  0,  0,  3,  0,  0,  0,  0,  7,  7,  7,\n",
            "        7,  0,  0, 11, 11, 11, 11,  0,  0, 15, 15, 15, 15,  0,  0,  0,  3,\n",
            "        0,  0,  0,  0,  7,  0,  0,  0,  0,  0, 11,  0,  0,  0,  0,  0, 15,\n",
            "        0,  0,  0,  0,  0,  0,  3,  0,  0,  0,  0,  7,  7,  7,  0,  0,  0,\n",
            "       11, 11, 11, 11,  0,  0, 15,  0,  0,  0,  0,  0,  0,  3,  0,  0,  0,\n",
            "        0,  7,  0,  0,  0,  0,  0,  0,  0,  0, 11,  0,  0, 15,  0,  0,  0,\n",
            "        0,  0,  0,  3,  0,  0,  0,  0,  7,  0,  0,  0,  0,  0, 11, 11, 11,\n",
            "       11,  0,  0, 15, 15, 15, 15,  0,  0,  0,  0,  0,  0,  0,  0,  0,  0,\n",
            "        0,  0,  0,  0,  0,  0,  0,  0,  0,  0,  0,  0,  0,  0,  0]), (7, 24), 15)\n"
          ]
        }
      ],
      "source": [
        "imifsc = readpgm('ifsc.ascii.pgm')\n",
        "print(imifsc)\n",
        "# Observe que a imagem está representada como um vetor de uma única dimensão\n",
        "# Fica difícil de visualizar as linhas e colunas"
      ]
    },
    {
      "cell_type": "code",
      "execution_count": 5,
      "metadata": {
        "colab": {
          "base_uri": "https://localhost:8080/"
        },
        "id": "SmcPwfbc9pld",
        "outputId": "f976eba9-3fc4-4d42-bfbe-31beb5911995"
      },
      "outputs": [
        {
          "output_type": "stream",
          "name": "stdout",
          "text": [
            "[[ 0  0  0  0  0  0  0  0  0  0  0  0  0  0  0  0  0  0  0  0  0  0  0  0]\n",
            " [ 0  0  3  0  0  0  0  7  7  7  7  0  0 11 11 11 11  0  0 15 15 15 15  0]\n",
            " [ 0  0  3  0  0  0  0  7  0  0  0  0  0 11  0  0  0  0  0 15  0  0  0  0]\n",
            " [ 0  0  3  0  0  0  0  7  7  7  0  0  0 11 11 11 11  0  0 15  0  0  0  0]\n",
            " [ 0  0  3  0  0  0  0  7  0  0  0  0  0  0  0  0 11  0  0 15  0  0  0  0]\n",
            " [ 0  0  3  0  0  0  0  7  0  0  0  0  0 11 11 11 11  0  0 15 15 15 15  0]\n",
            " [ 0  0  0  0  0  0  0  0  0  0  0  0  0  0  0  0  0  0  0  0  0  0  0  0]]\n"
          ]
        }
      ],
      "source": [
        "imifsc_reshape = np.reshape(imifsc[0],imifsc[1])\n",
        "print(imifsc_reshape)\n",
        "# Fazendo o reshape, aí sim podemos visualizar linhas e colunas\n",
        "# Observe os números representando as letras de I F S C"
      ]
    },
    {
      "cell_type": "code",
      "execution_count": 6,
      "metadata": {
        "colab": {
          "base_uri": "https://localhost:8080/",
          "height": 293
        },
        "id": "M7G2cObb9ple",
        "outputId": "c43cd99c-67b2-4919-f821-41af404eb4d1"
      },
      "outputs": [
        {
          "output_type": "stream",
          "name": "stderr",
          "text": [
            "/usr/local/lib/python3.10/dist-packages/skimage/io/_plugins/matplotlib_plugin.py:158: UserWarning: Low image data range; displaying image with stretched contrast.\n",
            "  lo, hi, cmap = _get_display_range(image)\n"
          ]
        },
        {
          "output_type": "execute_result",
          "data": {
            "text/plain": [
              "<matplotlib.image.AxesImage at 0x7f148d9007c0>"
            ]
          },
          "metadata": {},
          "execution_count": 6
        },
        {
          "output_type": "display_data",
          "data": {
            "text/plain": [
              "<Figure size 640x480 with 2 Axes>"
            ],
            "image/png": "[encoded data removed]"
          },
          "metadata": {}
        }
      ],
      "source": [
        "io.imshow(imifsc_reshape)\n",
        "# imshow aplica por default um mapa de cores (colormap) colorido"
      ]
    },
    {
      "cell_type": "code",
      "execution_count": 7,
      "metadata": {
        "colab": {
          "base_uri": "https://localhost:8080/",
          "height": 238
        },
        "id": "Z9lBrOzE9ple",
        "outputId": "d3e84b0e-767f-4643-9902-adad6d0f1d27"
      },
      "outputs": [
        {
          "output_type": "execute_result",
          "data": {
            "text/plain": [
              "<matplotlib.image.AxesImage at 0x7f148d8466e0>"
            ]
          },
          "metadata": {},
          "execution_count": 7
        },
        {
          "output_type": "display_data",
          "data": {
            "text/plain": [
              "<Figure size 640x480 with 2 Axes>"
            ],
            "image/png": "[encoded data removed]"
          },
          "metadata": {}
        }
      ],
      "source": [
        "io.imshow(imifsc_reshape, cmap='gray')\n",
        "# Aqui para ficar com o mapa em escala de cinza. Observe que, conforme estava especificado no arquivo,\n",
        "# o branco é a intensidade 15"
      ]
    },
    {
      "cell_type": "code",
      "execution_count": 8,
      "metadata": {
        "colab": {
          "base_uri": "https://localhost:8080/",
          "height": 230
        },
        "id": "x-b6vR3h9ple",
        "outputId": "e2d7da9c-1275-4a68-e5dc-d2dc42b30196"
      },
      "outputs": [
        {
          "output_type": "execute_result",
          "data": {
            "text/plain": [
              "<matplotlib.image.AxesImage at 0x7f148d7246a0>"
            ]
          },
          "metadata": {},
          "execution_count": 8
        },
        {
          "output_type": "display_data",
          "data": {
            "text/plain": [
              "<Figure size 640x480 with 2 Axes>"
            ],
            "image/png": "[encoded data removed]"
          },
          "metadata": {}
        }
      ],
      "source": [
        "io.imshow(imifsc_reshape, cmap='gray', vmin=0, vmax=255)\n",
        "# E aqui, a mesma imagem, mas com os limites entre 0 e 255 (ou seja, branco será 255).\n",
        "# Assim, aquela imagem que tinha intensidade máxima de 15 irá ficar bem escura\n",
        "# Tanto que nem será possível distinguir as letras"
      ]
    },
    {
      "cell_type": "markdown",
      "metadata": {
        "id": "j_ZfWppb9ple"
      },
      "source": [
        "# Contraste"
      ]
    },
    {
      "cell_type": "markdown",
      "metadata": {
        "id": "aAwXN-Ix9ple"
      },
      "source": [
        "Como as letras ficaram \"ocultas\", por ter baixo contraste com o fundo, iremos aumentar o contraste.\n",
        "\n",
        "Na função contraste, a operação aplicada sobre a intensidade de cada pixel é $I_{new}(u,v)= f_c⋅I(u,v)$, onde $f_c$ é um fator de contraste multiplicado pela intensidade original. A função deve limitar a intensidade entre 0 e 255 (com valores inteiros)"
      ]
    },
    {
      "cell_type": "code",
      "execution_count": 9,
      "metadata": {
        "id": "lqGHQnzZ9plf"
      },
      "outputs": [],
      "source": [
        "# Demonstração do laço principal para alteração de contraste\n",
        "for j in range(imifsc_reshape.shape[0]):\n",
        "    for k in range(imifsc_reshape.shape[1]):\n",
        "        imifsc_reshape[j,k]=17*imifsc_reshape[j,k]"
      ]
    },
    {
      "cell_type": "code",
      "execution_count": 10,
      "metadata": {
        "scrolled": true,
        "colab": {
          "base_uri": "https://localhost:8080/",
          "height": 230
        },
        "id": "x2pAahT09plf",
        "outputId": "9c895d57-36fb-4740-f2ea-acc77e4b57e0"
      },
      "outputs": [
        {
          "output_type": "execute_result",
          "data": {
            "text/plain": [
              "<matplotlib.image.AxesImage at 0x7f148d7c25f0>"
            ]
          },
          "metadata": {},
          "execution_count": 10
        },
        {
          "output_type": "display_data",
          "data": {
            "text/plain": [
              "<Figure size 640x480 with 2 Axes>"
            ],
            "image/png": "[encoded data removed]"
          },
          "metadata": {}
        }
      ],
      "source": [
        "io.imshow(imifsc_reshape, cmap='gray', vmin=0, vmax=255)\n",
        "# Observe como as letras \"apareceram\" com a alteração de contraste"
      ]
    },
    {
      "cell_type": "code",
      "source": [
        "import warnings\n",
        "\n",
        "image = readpgm('daeln.pgm')\n",
        "image_reshape = np.reshape(image[0],image[1])\n",
        "\n",
        "fator = 5\n",
        "def altera_contraste(imagem, fator):\n",
        "\n",
        "  imagem_nova = imagem.copy()\n",
        "\n",
        "  novo_valor = fator * imagem_nova\n",
        "  if np.any(imagem_nova > 255):\n",
        "       warnings.warn(\"Valor de pixel truncado para 255 devido a saturação.\")\n",
        "  else:\n",
        "       imagem_nova = novo_valor\n",
        "\n",
        "  return imagem_nova\n",
        "\n"
      ],
      "metadata": {
        "id": "1_cZFKvSAW3v"
      },
      "execution_count": 41,
      "outputs": []
    },
    {
      "cell_type": "code",
      "source": [
        "teste_contraste = altera_contraste(image_reshape, 5)\n",
        "io.imshow(teste_contraste, cmap='gray', vmin=0, vmax=255)\n",
        "plt.show()"
      ],
      "metadata": {
        "colab": {
          "base_uri": "https://localhost:8080/",
          "height": 449
        },
        "id": "PyrhgdpIBVo1",
        "outputId": "3c591a4b-3136-4167-d3bd-8f9099370124"
      },
      "execution_count": 42,
      "outputs": [
        {
          "output_type": "display_data",
          "data": {
            "text/plain": [
              "<Figure size 640x480 with 2 Axes>"
            ],
            "image/png": "[encoded data removed]"
          },
          "metadata": {}
        }
      ]
    },
    {
      "cell_type": "code",
      "source": [
        "def altera_brilho(imagem, fator):\n",
        "\n",
        "  imagem_nova = imagem.copy()\n",
        "\n",
        "  novo_valor = fator + imagem_nova\n",
        "  if np.any(imagem_nova > 255):\n",
        "      warnings.warn(\"Valor de pixel truncado para 255 devido a saturação.\")\n",
        "  else:\n",
        "      imagem_nova = novo_valor\n",
        "\n",
        "  return imagem_nova"
      ],
      "metadata": {
        "id": "XbfvKnHZCua4"
      },
      "execution_count": 45,
      "outputs": []
    },
    {
      "cell_type": "code",
      "source": [
        "teste_brilho = altera_brilho(image_reshape, 80)\n",
        "io.imshow(teste_brilho, cmap='gray', vmin=0, vmax=255)\n",
        "plt.show()"
      ],
      "metadata": {
        "colab": {
          "base_uri": "https://localhost:8080/",
          "height": 449
        },
        "id": "CvH5D-UjC9Z2",
        "outputId": "65514d64-2aa9-420d-c371-f9b55ad38511"
      },
      "execution_count": 50,
      "outputs": [
        {
          "output_type": "display_data",
          "data": {
            "text/plain": [
              "<Figure size 640x480 with 2 Axes>"
            ],
            "image/png": "[encoded data removed]"
          },
          "metadata": {}
        }
      ]
    },
    {
      "cell_type": "markdown",
      "metadata": {
        "id": "Ei6i21OC9plf"
      },
      "source": [
        "# Atividade"
      ]
    },
    {
      "cell_type": "markdown",
      "metadata": {
        "id": "zSKBkNTa9plf"
      },
      "source": [
        "1. Faça uma **função** *altera_contraste()* que receba uma matriz (`nparray`) e um fator de multiplicação e retorne uma nova matriz com o contraste modificado. Lembre de limitar a intensidade entre 0 e 255 dentro da função. Informe com um _warning_ se isso ocorrer.  "
      ]
    },
    {
      "cell_type": "markdown",
      "metadata": {
        "id": "XGKo_jWR9plf"
      },
      "source": [
        "2. Operação **brilho**. Para alterar o brilho de uma imagem, a operação aplicada sobre a intensidade de cada pixel é $I_{new}(u,v)=f_b+I(u,v)$, onde $f_b$ é um fator de brilho somado à intensidade original. Faça uma **função** *altera_brilho()* que receba uma matriz (`nparray`) e um fator de adição e retorne uma nova matriz com o brilho modificado. Lembre de limitar a intensidade entre 0 e 255 dentro da função. Informe com um _warning_ se isso ocorrer."
      ]
    },
    {
      "cell_type": "markdown",
      "metadata": {
        "id": "iB4n57b_9plf"
      },
      "source": [
        "3. Teste as duas funções com a imagem _daeln.pgm_\n",
        "\n",
        "Para o contraste, submeta no Moodle a imagem com o fator de aumento 5 (terá saturação)\n",
        "\n",
        "Para o brilho, submeta no Moodle a imagem com o fator de diminuição 80 (também terá saturação, mas para baixo)"
      ]
    }
  ],
  "metadata": {
    "kernelspec": {
      "display_name": "Python 3",
      "language": "python",
      "name": "python3"
    },
    "language_info": {
      "codemirror_mode": {
        "name": "ipython",
        "version": 3
      },
      "file_extension": ".py",
      "mimetype": "text/x-python",
      "name": "python",
      "nbconvert_exporter": "python",
      "pygments_lexer": "ipython3",
      "version": "3.8.2"
    },
    "colab": {
      "provenance": [],
      "include_colab_link": true
    }
  },
  "nbformat": 4,
  "nbformat_minor": 0
}